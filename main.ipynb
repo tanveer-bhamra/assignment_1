{
 "cells": [
  {
   "cell_type": "code",
   "execution_count": 11,
   "metadata": {},
   "outputs": [],
   "source": [
    "# import modules\n",
    "\n",
    "from shapely.geometry import Polygon\n",
    "from shapely.geometry import Point\n",
    "import rasterio\n",
    "from rasterio import features\n",
    "from rasterio.windows import Window\n",
    "from rasterio import plot\n",
    "import numpy as np\n",
    "\n"
   ]
  },
  {
   "cell_type": "markdown",
   "metadata": {},
   "source": [
    "# TASK 1: USER INPUT"
   ]
  },
  {
   "cell_type": "code",
   "execution_count": 2,
   "metadata": {},
   "outputs": [
    {
     "name": "stdout",
     "output_type": "stream",
     "text": [
      "Enter an Easting coordinate value: 450000\n",
      "Enter a Northing coordinate : 92000\n",
      "inside\n",
      "within boundary\n"
     ]
    }
   ],
   "source": [
    "# Task 1 User Input\n",
    "\n",
    "def user_input():\n",
    "    while True:\n",
    "        try:\n",
    "            x_point = float(input(\"Enter an Easting coordinate value: \"))\n",
    "            y_point = float(input(\"Enter a Northing coordinate : \"))\n",
    "            user_loc = Point(x_point, y_point)\n",
    "            island_mbr: Polygon = Polygon([(430000, 95000), (430000, 80000), (465000, 80000), (465000, 95000)])\n",
    "            break\n",
    "        except:\n",
    "            print('Please enter a valid Easting and Northing ')\n",
    "            user_input()\n",
    "            \n",
    "    if user_loc.within(island_mbr):\n",
    "        print('inside')\n",
    "    else:\n",
    "        print(\"Not within the software's boundary\\nBoundary extends: \\n 430000 - 465000 East\\n 80000 - 95000 North\"\n",
    "              \" \\n Please input a new coordinates\\n\\n \")\n",
    "        user_input()\n",
    "        # quit software\n",
    "    return user_loc, print('within boundary')  # remove the print when program works\n",
    "\n",
    "\n",
    "point = user_input()\n"
   ]
  },
  {
   "cell_type": "markdown",
   "metadata": {},
   "source": [
    "# TASK 2 - HIGHEST POINT IDENTIFICATION"
   ]
  },
  {
   "cell_type": "code",
   "execution_count": 20,
   "metadata": {},
   "outputs": [],
   "source": [
    "# Task 2 Highest Point Identification - Identify the highest point within a 5km radius from the user location.\n",
    "\n",
    "# read in elevation data file\n",
    "\n",
    "elevation_file = rasterio.open(\"Material/elevation/SZ.asc\")\n",
    "elevation = elevation_file.read(1)\n",
    "elevation_file.close()\n"
   ]
  },
  {
   "cell_type": "code",
   "execution_count": 24,
   "metadata": {},
   "outputs": [
    {
     "name": "stdout",
     "output_type": "stream",
     "text": [
      "PROJCS[\"OSGB 1936 / British National Grid\",GEOGCS[\"OSGB 1936\",DATUM[\"OSGB_1936\",SPHEROID[\"Airy 1830\",6377563.396,299.3249646,AUTHORITY[\"EPSG\",\"7001\"]],AUTHORITY[\"EPSG\",\"6277\"]],PRIMEM[\"Greenwich\",0],UNIT[\"Degree\",0.0174532925199433]],PROJECTION[\"Transverse_Mercator\"],PARAMETER[\"latitude_of_origin\",49],PARAMETER[\"central_meridian\",-2],PARAMETER[\"scale_factor\",0.999601272],PARAMETER[\"false_easting\",400000],PARAMETER[\"false_northing\",-100000],UNIT[\"metre\",1,AUTHORITY[\"EPSG\",\"9001\"]],AXIS[\"Easting\",EAST],AXIS[\"Northing\",NORTH]]\n",
      "1\n",
      "BoundingBox(left=425000.0, bottom=75000.0, right=470000.0, top=100000.0)\n",
      "('float32',)\n",
      "5000\n",
      "9000\n",
      "0.27\n",
      "(439907.5, 91737.5)\n"
     ]
    }
   ],
   "source": [
    "# Features of elevation_file (SZ.asc) \n",
    "print(elevation_file.crs)\n",
    "print(elevation_file.count)\n",
    "print(elevation_file.bounds)\n",
    "print(elevation_file.dtypes)\n",
    "print(elevation_file.height)\n",
    "print(elevation_file.width)\n",
    "print(elevation[1652,2981])\n",
    "print(elevation_file.xy(1652,2981))"
   ]
  },
  {
   "cell_type": "code",
   "execution_count": 25,
   "metadata": {},
   "outputs": [
    {
     "name": "stdout",
     "output_type": "stream",
     "text": [
      "hell\n"
     ]
    }
   ],
   "source": [
    "# define the bounds of the elevation file (this info is given in elevation_file_bounds variable)\n",
    "w_lim = 425000\n",
    "n_lim = 100000\n",
    "s_lim = 75000\n",
    "e_lim = 470000\n",
    "\n",
    "# CREATE A WINDOW\n",
    "\n",
    "# define row and cloumn offset\n",
    "row_off, col_off  = elevation_file.index(w_lim, n_lim)\n",
    "\n",
    "# define the width and height of the window\n",
    "height = elevation_file.height  #rows\n",
    "width = elevation_file.width #coloumns\n",
    "\n",
    "elevation_window = elevation_file.read(1, window=Window(col_off, row_off, width, height))\n",
    "\n",
    "print(elevation_window.shape)\n"
   ]
  },
  {
   "cell_type": "code",
   "execution_count": 6,
   "metadata": {},
   "outputs": [
    {
     "data": {
      "text/plain": [
       "BoundingBox(left=425000.0, bottom=75000.0, right=470000.0, top=100000.0)"
      ]
     },
     "execution_count": 6,
     "metadata": {},
     "output_type": "execute_result"
    }
   ],
   "source": []
  },
  {
   "cell_type": "code",
   "execution_count": null,
   "metadata": {},
   "outputs": [],
   "source": []
  }
 ],
 "metadata": {
  "kernelspec": {
   "display_name": "Python 3",
   "language": "python",
   "name": "python3"
  },
  "language_info": {
   "codemirror_mode": {
    "name": "ipython",
    "version": 3
   },
   "file_extension": ".py",
   "mimetype": "text/x-python",
   "name": "python",
   "nbconvert_exporter": "python",
   "pygments_lexer": "ipython3",
   "version": "3.7.8"
  }
 },
 "nbformat": 4,
 "nbformat_minor": 2
}
